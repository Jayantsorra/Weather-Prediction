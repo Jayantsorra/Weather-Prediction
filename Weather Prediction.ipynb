{
 "cells": [
  {
   "cell_type": "code",
   "execution_count": 1,
   "id": "25092e25-b689-4081-97d8-82a3279f2210",
   "metadata": {},
   "outputs": [
    {
     "name": "stdout",
     "output_type": "stream",
     "text": [
      "Welcome to the Weather Prediction Program!\n",
      "\n",
      "Please provide historical weather data:\n"
     ]
    },
    {
     "name": "stdin",
     "output_type": "stream",
     "text": [
      "Enter historical weather data (e.g., sunny, rainy, cloudy):  sunny\n",
      "Enter historical weather data (e.g., sunny, rainy, cloudy):  rainy\n",
      "Enter historical weather data (e.g., sunny, rainy, cloudy):  cloudy\n",
      "Enter historical weather data (e.g., sunny, rainy, cloudy):  \n"
     ]
    },
    {
     "name": "stdout",
     "output_type": "stream",
     "text": [
      "Invalid input. Please enter 'sunny', 'rainy', 'cloudy', or 'done'.\n"
     ]
    },
    {
     "name": "stdin",
     "output_type": "stream",
     "text": [
      "Enter historical weather data (e.g., sunny, rainy, cloudy):  done\n"
     ]
    },
    {
     "name": "stdout",
     "output_type": "stream",
     "text": [
      "\n",
      "Weather Predictions based on Historical Data:\n",
      "Sunny: 33.33%\n",
      "Rainy: 33.33%\n",
      "Cloudy: 33.33%\n"
     ]
    }
   ],
   "source": [
    "def get_weather_data():\n",
    "    \"\"\"Get historical weather data from the user.\"\"\"\n",
    "    weather_data = []\n",
    "    while True:\n",
    "        data = input(\"Enter historical weather data (e.g., sunny, rainy, cloudy): \").strip().lower()\n",
    "        if data in {'sunny', 'rainy', 'cloudy'}:\n",
    "            weather_data.append(data)\n",
    "        elif data == 'done':\n",
    "            break\n",
    "        else:\n",
    "            print(\"Invalid input. Please enter 'sunny', 'rainy', 'cloudy', or 'done'.\")\n",
    "\n",
    "    return weather_data\n",
    "\n",
    "def predict_weather(weather_data):\n",
    "    \"\"\"Predict future weather conditions using basic statistical methods.\"\"\"\n",
    "    if not weather_data:\n",
    "        print(\"No data available for prediction.\")\n",
    "        return\n",
    "\n",
    "    sunny_count = weather_data.count('sunny')\n",
    "    rainy_count = weather_data.count('rainy')\n",
    "    cloudy_count = weather_data.count('cloudy')\n",
    "\n",
    "    total_count = len(weather_data)\n",
    "\n",
    "    sunny_probability = sunny_count / total_count\n",
    "    rainy_probability = rainy_count / total_count\n",
    "    cloudy_probability = cloudy_count / total_count\n",
    "\n",
    "    predictions = {\n",
    "        'sunny': sunny_probability,\n",
    "        'rainy': rainy_probability,\n",
    "        'cloudy': cloudy_probability\n",
    "    }\n",
    "\n",
    "    return predictions\n",
    "\n",
    "def main():\n",
    "    \"\"\"Main function to run the weather prediction program.\"\"\"\n",
    "    print(\"Welcome to the Weather Prediction Program!\")\n",
    "\n",
    "    # Get historical weather data from the user\n",
    "    print(\"\\nPlease provide historical weather data:\")\n",
    "    weather_data = get_weather_data()\n",
    "\n",
    "    # Predict future weather conditions\n",
    "    predictions = predict_weather(weather_data)\n",
    "\n",
    "    if predictions:\n",
    "        print(\"\\nWeather Predictions based on Historical Data:\")\n",
    "        for condition, probability in predictions.items():\n",
    "            print(f\"{condition.capitalize()}: {probability * 100:.2f}%\")\n",
    "    else:\n",
    "        print(\"No predictions available.\")\n",
    "\n",
    "if __name__ == \"__main__\":\n",
    "    main()\n",
    "\n"
   ]
  },
  {
   "cell_type": "code",
   "execution_count": null,
   "id": "551c09a4-15dd-4a87-bae0-5a3341e2eb45",
   "metadata": {},
   "outputs": [],
   "source": []
  }
 ],
 "metadata": {
  "kernelspec": {
   "display_name": "Python 3 (ipykernel)",
   "language": "python",
   "name": "python3"
  },
  "language_info": {
   "codemirror_mode": {
    "name": "ipython",
    "version": 3
   },
   "file_extension": ".py",
   "mimetype": "text/x-python",
   "name": "python",
   "nbconvert_exporter": "python",
   "pygments_lexer": "ipython3",
   "version": "3.11.7"
  }
 },
 "nbformat": 4,
 "nbformat_minor": 5
}
